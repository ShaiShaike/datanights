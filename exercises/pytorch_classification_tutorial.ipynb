{
 "cells": [
  {
   "cell_type": "markdown",
   "source": [
    "# Pytorch tutorial for image classification\r\n",
    "Checkout the Pytorch tutorial in this [link](https://pytorch.org/tutorials/beginner/blitz/cifar10_tutorial.html)."
   ],
   "metadata": {}
  },
  {
   "cell_type": "code",
   "execution_count": 1,
   "source": [
    "import torch\r\n",
    "import torchvision\r\n",
    "import torchvision.transforms as transforms"
   ],
   "outputs": [],
   "metadata": {}
  },
  {
   "cell_type": "markdown",
   "source": [
    "## Loading the Data (CIFAR10)\r\n",
    "Downloading the data, normalize it and transform to tensors, and wrap it in DataLoaders for 'train' and 'test'."
   ],
   "metadata": {}
  },
  {
   "cell_type": "code",
   "execution_count": 2,
   "source": [
    "transform = transforms.Compose(\r\n",
    "    [transforms.ToTensor(),\r\n",
    "     transforms.Normalize((0.5, 0.5, 0.5), (0.5, 0.5, 0.5))])\r\n",
    "\r\n",
    "batch_size = 4\r\n",
    "\r\n",
    "trainset = torchvision.datasets.CIFAR10(root='./data', train=True,\r\n",
    "                                        download=True, transform=transform)\r\n",
    "trainloader = torch.utils.data.DataLoader(trainset, batch_size=batch_size,\r\n",
    "                                          shuffle=True, num_workers=2)\r\n",
    "\r\n",
    "testset = torchvision.datasets.CIFAR10(root='./data', train=False,\r\n",
    "                                       download=True, transform=transform)\r\n",
    "testloader = torch.utils.data.DataLoader(testset, batch_size=batch_size,\r\n",
    "                                         shuffle=False, num_workers=2)\r\n",
    "\r\n",
    "classes = ('plane', 'car', 'bird', 'cat',\r\n",
    "           'deer', 'dog', 'frog', 'horse', 'ship', 'truck')"
   ],
   "outputs": [
    {
     "output_type": "stream",
     "name": "stdout",
     "text": [
      "Files already downloaded and verified\n",
      "Files already downloaded and verified\n"
     ]
    }
   ],
   "metadata": {}
  },
  {
   "cell_type": "markdown",
   "source": [
    "## The Model\r\n",
    "Define a neural network model.\r\n",
    "The model is defined as a class which inherits from the pytorch class `Model`.\r\n",
    "Notice that first, we define the layers in the `__init__` and only after we use the defined layers in the `forward`.\r\n",
    "This writing is similar for tensorflow as well."
   ],
   "metadata": {}
  },
  {
   "cell_type": "code",
   "execution_count": 3,
   "source": [
    "import torch.nn as nn\r\n",
    "import torch.nn.functional as F\r\n",
    "\r\n",
    "\r\n",
    "class Net(nn.Module):\r\n",
    "    def __init__(self):\r\n",
    "        super().__init__()\r\n",
    "        self.conv1 = nn.Conv2d(3, 6, 5)\r\n",
    "        self.pool = nn.MaxPool2d(2, 2)\r\n",
    "        self.conv2 = nn.Conv2d(6, 16, 5)\r\n",
    "        self.fc1 = nn.Linear(16 * 5 * 5, 120)\r\n",
    "        self.fc2 = nn.Linear(120, 84)\r\n",
    "        self.fc3 = nn.Linear(84, 10)\r\n",
    "\r\n",
    "    def forward(self, x):\r\n",
    "        x = self.pool(F.relu(self.conv1(x)))\r\n",
    "        x = self.pool(F.relu(self.conv2(x)))\r\n",
    "        x = torch.flatten(x, 1) # flatten all dimensions except batch\r\n",
    "        x = F.relu(self.fc1(x))\r\n",
    "        x = F.relu(self.fc2(x))\r\n",
    "        x = self.fc3(x)\r\n",
    "        return x\r\n",
    "\r\n",
    "\r\n",
    "net = Net()"
   ],
   "outputs": [],
   "metadata": {}
  },
  {
   "cell_type": "markdown",
   "source": [
    "We define the optimizer and the loss function, which defines how to train our model:"
   ],
   "metadata": {}
  },
  {
   "cell_type": "code",
   "execution_count": 4,
   "source": [
    "import torch.optim as optim\r\n",
    "\r\n",
    "criterion = nn.CrossEntropyLoss()\r\n",
    "optimizer = optim.SGD(net.parameters(), lr=0.001, momentum=0.9)"
   ],
   "outputs": [],
   "metadata": {}
  },
  {
   "cell_type": "markdown",
   "source": [
    "## Training\r\n",
    "The training process:"
   ],
   "metadata": {}
  },
  {
   "cell_type": "code",
   "execution_count": 7,
   "source": [
    "from ToGrowABackbone.training_utils import evaluate\r\n",
    "\r\n",
    "for epoch in range(2):  # loop over the dataset multiple times\r\n",
    "\r\n",
    "    running_loss = 0.0\r\n",
    "    for i, data in enumerate(trainloader, 0):\r\n",
    "        # get the inputs; data is a list of [inputs, labels]\r\n",
    "        inputs, labels = data\r\n",
    "\r\n",
    "        # zero the parameter gradients\r\n",
    "        optimizer.zero_grad()\r\n",
    "\r\n",
    "        # forward + backward + optimize\r\n",
    "        outputs = net(inputs)\r\n",
    "        loss = criterion(outputs, labels)\r\n",
    "        loss.backward()\r\n",
    "        optimizer.step()\r\n",
    "\r\n",
    "        # print statistics\r\n",
    "        running_loss += loss.item()\r\n",
    "        if i % 2000 == 1999:    # print every 2000 mini-batches\r\n",
    "            print('[%d, %5d] loss: %.3f' %\r\n",
    "                  (epoch + 1, i + 1, running_loss / 2000))\r\n",
    "            running_loss = 0.0\r\n",
    "    \r\n",
    "    evaluate(net, testloader, classes)\r\n",
    "\r\n",
    "print('Finished Training')"
   ],
   "outputs": [
    {
     "output_type": "stream",
     "name": "stdout",
     "text": [
      "[1,  2000] loss: 1.241\n",
      "[1,  4000] loss: 1.235\n",
      "[1,  6000] loss: 1.208\n",
      "[1,  8000] loss: 1.198\n",
      "[1, 10000] loss: 1.200\n",
      "[1, 12000] loss: 1.186\n",
      "Accuracy for class plane is: 54.1 %\n",
      "Accuracy for class car   is: 64.8 %\n",
      "Accuracy for class bird  is: 39.2 %\n",
      "Accuracy for class cat   is: 45.8 %\n",
      "Accuracy for class deer  is: 53.1 %\n",
      "Accuracy for class dog   is: 36.2 %\n",
      "Accuracy for class frog  is: 65.0 %\n",
      "Accuracy for class horse is: 78.6 %\n",
      "Accuracy for class ship  is: 71.2 %\n",
      "Accuracy for class truck is: 69.4 %\n",
      "[2,  2000] loss: 1.098\n",
      "[2,  4000] loss: 1.118\n",
      "[2,  6000] loss: 1.130\n",
      "[2,  8000] loss: 1.117\n",
      "[2, 10000] loss: 1.136\n",
      "[2, 12000] loss: 1.122\n",
      "Accuracy for class plane is: 69.2 %\n",
      "Accuracy for class car   is: 71.6 %\n",
      "Accuracy for class bird  is: 45.1 %\n",
      "Accuracy for class cat   is: 42.4 %\n",
      "Accuracy for class deer  is: 63.7 %\n",
      "Accuracy for class dog   is: 46.7 %\n",
      "Accuracy for class frog  is: 65.3 %\n",
      "Accuracy for class horse is: 65.6 %\n",
      "Accuracy for class ship  is: 53.9 %\n",
      "Accuracy for class truck is: 69.4 %\n",
      "Finished Training\n"
     ]
    }
   ],
   "metadata": {}
  },
  {
   "cell_type": "markdown",
   "source": [
    "# Evaluation\r\n",
    "Evaluate our model on the test set."
   ],
   "metadata": {}
  },
  {
   "cell_type": "code",
   "execution_count": 6,
   "source": [
    "# prepare to count predictions for each class\r\n",
    "correct_pred = {classname: 0 for classname in classes}\r\n",
    "total_pred = {classname: 0 for classname in classes}\r\n",
    "\r\n",
    "# again no gradients needed\r\n",
    "with torch.no_grad():\r\n",
    "    for data in testloader:\r\n",
    "        images, labels = data\r\n",
    "        outputs = net(images)\r\n",
    "        _, predictions = torch.max(outputs, 1)\r\n",
    "        # collect the correct predictions for each class\r\n",
    "        for label, prediction in zip(labels, predictions):\r\n",
    "            if label == prediction:\r\n",
    "                correct_pred[classes[label]] += 1\r\n",
    "            total_pred[classes[label]] += 1\r\n",
    "\r\n",
    "\r\n",
    "# print accuracy for each class\r\n",
    "for classname, correct_count in correct_pred.items():\r\n",
    "    accuracy = 100 * float(correct_count) / total_pred[classname]\r\n",
    "    print(\"Accuracy for class {:5s} is: {:.1f} %\".format(classname,\r\n",
    "                                                   accuracy))"
   ],
   "outputs": [
    {
     "output_type": "stream",
     "name": "stdout",
     "text": [
      "Accuracy for class plane is: 64.2 %\n",
      "Accuracy for class car   is: 60.1 %\n",
      "Accuracy for class bird  is: 61.5 %\n",
      "Accuracy for class cat   is: 41.0 %\n",
      "Accuracy for class deer  is: 21.2 %\n",
      "Accuracy for class dog   is: 16.5 %\n",
      "Accuracy for class frog  is: 71.3 %\n",
      "Accuracy for class horse is: 62.9 %\n",
      "Accuracy for class ship  is: 65.6 %\n",
      "Accuracy for class truck is: 60.3 %\n"
     ]
    }
   ],
   "metadata": {}
  }
 ],
 "metadata": {
  "orig_nbformat": 4,
  "language_info": {
   "name": "python",
   "version": "3.8.7",
   "mimetype": "text/x-python",
   "codemirror_mode": {
    "name": "ipython",
    "version": 3
   },
   "pygments_lexer": "ipython3",
   "nbconvert_exporter": "python",
   "file_extension": ".py"
  },
  "kernelspec": {
   "name": "python3",
   "display_name": "Python 3.8.7 64-bit ('venv': venv)"
  },
  "interpreter": {
   "hash": "0e80eec0e6cce1a9499657ad6eda180e9a270232e0e5f05f33b4e4bb81ec9dba"
  }
 },
 "nbformat": 4,
 "nbformat_minor": 2
}