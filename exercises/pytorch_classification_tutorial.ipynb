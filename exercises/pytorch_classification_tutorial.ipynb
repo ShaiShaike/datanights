{
 "cells": [
  {
   "cell_type": "markdown",
   "metadata": {},
   "source": [
    "# Pytorch tutorial for image classification\n",
    "Checkout the Pytorch tutorial in this [link](https://pytorch.org/tutorials/beginner/blitz/cifar10_tutorial.html)."
   ]
  },
  {
   "cell_type": "code",
   "execution_count": 60,
   "metadata": {},
   "outputs": [],
   "source": [
    "import torch\n",
    "import torchvision\n",
    "import torchvision.transforms as transforms"
   ]
  },
  {
   "cell_type": "markdown",
   "metadata": {},
   "source": [
    "## Loading the Data (CIFAR10)\n",
    "Downloading the data, normalize it and transform to tensors, and wrap it in DataLoaders for 'train' and 'test'."
   ]
  },
  {
   "cell_type": "code",
   "execution_count": 61,
   "metadata": {},
   "outputs": [
    {
     "name": "stdout",
     "output_type": "stream",
     "text": [
      "Files already downloaded and verified\n",
      "Files already downloaded and verified\n"
     ]
    }
   ],
   "source": [
    "transform = transforms.Compose(\n",
    "    [transforms.ToTensor(),\n",
    "     transforms.Normalize((0.5, 0.5, 0.5), (0.5, 0.5, 0.5))])\n",
    "\n",
    "batch_size = 4\n",
    "\n",
    "trainset = torchvision.datasets.CIFAR10(root='./data', train=True,\n",
    "                                        download=True, transform=transform)\n",
    "trainloader = torch.utils.data.DataLoader(trainset, batch_size=batch_size,\n",
    "                                          shuffle=True, num_workers=2)\n",
    "\n",
    "testset = torchvision.datasets.CIFAR10(root='./data', train=False,\n",
    "                                       download=True, transform=transform)\n",
    "testloader = torch.utils.data.DataLoader(testset, batch_size=batch_size,\n",
    "                                         shuffle=False, num_workers=2)\n",
    "\n",
    "classes = ('plane', 'car', 'bird', 'cat',\n",
    "           'deer', 'dog', 'frog', 'horse', 'ship', 'truck')"
   ]
  },
  {
   "cell_type": "code",
   "execution_count": 62,
   "metadata": {},
   "outputs": [
    {
     "name": "stdout",
     "output_type": "stream",
     "text": [
      "{'bird': 5000,\n",
      " 'car': 5000,\n",
      " 'cat': 5000,\n",
      " 'deer': 5000,\n",
      " 'dog': 5000,\n",
      " 'frog': 5000,\n",
      " 'horse': 5000,\n",
      " 'plane': 5000,\n",
      " 'ship': 5000,\n",
      " 'truck': 5000}\n"
     ]
    }
   ],
   "source": [
    "from pprint import pprint\n",
    "dataset_statistic = {classname: 0 for classname in classes}\n",
    "for data in trainset:\n",
    "    inputs, labels = data\n",
    "    dataset_statistic[classes[labels]] += 1\n",
    "\n",
    "pprint(dataset_statistic)"
   ]
  },
  {
   "cell_type": "markdown",
   "metadata": {},
   "source": [
    "## The Model\n",
    "Define a neural network model.\n",
    "The model is defined as a class which inherits from the pytorch class `Model`.\n",
    "Notice that first, we define the layers in the `__init__` and only after we use the defined layers in the `forward`.\n",
    "This writing is similar for tensorflow as well."
   ]
  },
  {
   "cell_type": "code",
   "execution_count": 63,
   "metadata": {},
   "outputs": [],
   "source": [
    "import torch.nn as nn\n",
    "import torch.nn.functional as F\n",
    "\n",
    "\n",
    "class Net(nn.Module):\n",
    "    def __init__(self):\n",
    "        super().__init__()\n",
    "        self.conv1 = nn.Conv2d(3, 6, 5)\n",
    "        self.pool = nn.MaxPool2d(2, 2)\n",
    "        self.conv2 = nn.Conv2d(6, 16, 5)\n",
    "        self.fc1 = nn.Linear(16 * 5 * 5, 120)\n",
    "        self.fc2 = nn.Linear(120, 84)\n",
    "        self.fc3 = nn.Linear(84, 10)\n",
    "\n",
    "    def forward(self, x):\n",
    "        x = self.pool(F.relu(self.conv1(x)))\n",
    "        x = self.pool(F.relu(self.conv2(x)))\n",
    "        x = torch.flatten(x, 1) # flatten all dimensions except batch\n",
    "        x = F.relu(self.fc1(x))\n",
    "        x = F.relu(self.fc2(x))\n",
    "        x = self.fc3(x)\n",
    "        return x\n",
    "\n",
    "\n",
    "net = Net()"
   ]
  },
  {
   "cell_type": "markdown",
   "metadata": {},
   "source": [
    "We define the optimizer and the loss function, which defines how to train our model:"
   ]
  },
  {
   "cell_type": "code",
   "execution_count": 64,
   "metadata": {},
   "outputs": [],
   "source": [
    "import torch.optim as optim\n",
    "\n",
    "criterion = nn.CrossEntropyLoss()\n",
    "optimizer = optim.SGD(net.parameters(), lr=0.001, momentum=0.9)"
   ]
  },
  {
   "cell_type": "markdown",
   "metadata": {},
   "source": [
    "## Training\n",
    "The training process:"
   ]
  },
  {
   "cell_type": "code",
   "execution_count": 65,
   "metadata": {},
   "outputs": [
    {
     "name": "stdout",
     "output_type": "stream",
     "text": [
      "Epoch 0:\n",
      "Accuracy for class plane is: 62.7 %\n",
      "Accuracy for class car   is: 62.0 %\n",
      "Accuracy for class bird  is: 25.7 %\n",
      "Accuracy for class cat   is: 28.5 %\n",
      "Accuracy for class deer  is: 38.0 %\n",
      "Accuracy for class dog   is: 49.5 %\n",
      "Accuracy for class frog  is: 66.9 %\n",
      "Accuracy for class horse is: 58.3 %\n",
      "Accuracy for class ship  is: 42.6 %\n",
      "Accuracy for class truck is: 61.3 %\n",
      "Epoch 1:\n",
      "Accuracy for class plane is: 72.3 %\n",
      "Accuracy for class car   is: 71.3 %\n",
      "Accuracy for class bird  is: 29.9 %\n",
      "Accuracy for class cat   is: 63.1 %\n",
      "Accuracy for class deer  is: 57.9 %\n",
      "Accuracy for class dog   is: 22.4 %\n",
      "Accuracy for class frog  is: 56.0 %\n",
      "Accuracy for class horse is: 61.3 %\n",
      "Accuracy for class ship  is: 62.2 %\n",
      "Accuracy for class truck is: 61.5 %\n",
      "Epoch 2:\n",
      "Accuracy for class plane is: 71.7 %\n",
      "Accuracy for class car   is: 75.5 %\n",
      "Accuracy for class bird  is: 23.7 %\n",
      "Accuracy for class cat   is: 43.6 %\n",
      "Accuracy for class deer  is: 64.6 %\n",
      "Accuracy for class dog   is: 35.2 %\n",
      "Accuracy for class frog  is: 68.5 %\n",
      "Accuracy for class horse is: 68.6 %\n",
      "Accuracy for class ship  is: 46.9 %\n",
      "Accuracy for class truck is: 72.6 %\n",
      "Epoch 3:\n",
      "Accuracy for class plane is: 61.5 %\n",
      "Accuracy for class car   is: 78.5 %\n",
      "Accuracy for class bird  is: 61.2 %\n",
      "Accuracy for class cat   is: 19.0 %\n",
      "Accuracy for class deer  is: 55.7 %\n",
      "Accuracy for class dog   is: 53.7 %\n",
      "Accuracy for class frog  is: 78.7 %\n",
      "Accuracy for class horse is: 59.0 %\n",
      "Accuracy for class ship  is: 76.0 %\n",
      "Accuracy for class truck is: 65.3 %\n",
      "Epoch 4:\n",
      "Accuracy for class plane is: 49.6 %\n",
      "Accuracy for class car   is: 64.0 %\n",
      "Accuracy for class bird  is: 49.4 %\n",
      "Accuracy for class cat   is: 31.1 %\n",
      "Accuracy for class deer  is: 57.8 %\n",
      "Accuracy for class dog   is: 64.1 %\n",
      "Accuracy for class frog  is: 77.9 %\n",
      "Accuracy for class horse is: 55.1 %\n",
      "Accuracy for class ship  is: 84.6 %\n",
      "Accuracy for class truck is: 72.7 %\n",
      "Epoch 5:\n",
      "Accuracy for class plane is: 76.0 %\n",
      "Accuracy for class car   is: 79.8 %\n",
      "Accuracy for class bird  is: 54.2 %\n",
      "Accuracy for class cat   is: 29.5 %\n",
      "Accuracy for class deer  is: 47.5 %\n",
      "Accuracy for class dog   is: 50.0 %\n",
      "Accuracy for class frog  is: 80.8 %\n",
      "Accuracy for class horse is: 65.3 %\n",
      "Accuracy for class ship  is: 67.7 %\n",
      "Accuracy for class truck is: 60.1 %\n",
      "Finished Training\n"
     ]
    }
   ],
   "source": [
    "from ToGrowABackbone.training_utils import evaluate\n",
    "\n",
    "for epoch in range(6):  # loop over the dataset multiple times\n",
    "\n",
    "    running_loss = 0.0\n",
    "    for i, data in enumerate(trainloader, 0):\n",
    "        # get the inputs; data is a list of [inputs, labels]\n",
    "        inputs, labels = data\n",
    "\n",
    "        # zero the parameter gradients\n",
    "        optimizer.zero_grad()\n",
    "\n",
    "        # forward + backward + optimize\n",
    "        outputs = net(inputs)\n",
    "        loss = criterion(outputs, labels)\n",
    "        loss.backward()\n",
    "        optimizer.step()\n",
    "\n",
    "    print(f'Epoch {epoch}:')\n",
    "    evaluate(net, testloader, classes)\n",
    "\n",
    "print('Finished Training')"
   ]
  },
  {
   "cell_type": "markdown",
   "metadata": {},
   "source": [
    "# Evaluation\n",
    "Evaluate our model on the test set."
   ]
  },
  {
   "cell_type": "code",
   "execution_count": null,
   "metadata": {},
   "outputs": [],
   "source": [
    "# prepare to count predictions for each class\n",
    "correct_pred = {classname: 0 for classname in classes}\n",
    "total_pred = {classname: 0 for classname in classes}\n",
    "\n",
    "# again no gradients needed\n",
    "with torch.no_grad():\n",
    "    for data in testloader:\n",
    "        images, labels = data\n",
    "        outputs = net(images)\n",
    "        _, predictions = torch.max(outputs, 1)\n",
    "        # collect the correct predictions for each class\n",
    "        for label, prediction in zip(labels, predictions):\n",
    "            if label == prediction:\n",
    "                correct_pred[classes[label]] += 1\n",
    "            total_pred[classes[label]] += 1\n",
    "\n",
    "\n",
    "# print accuracy for each class\n",
    "for classname, correct_count in correct_pred.items():\n",
    "    accuracy = 100 * float(correct_count) / total_pred[classname]\n",
    "    print(\"Accuracy for class {:5s} is: {:.1f} %\".format(classname,\n",
    "                                                   accuracy))"
   ]
  }
 ],
 "metadata": {
  "interpreter": {
   "hash": "0e80eec0e6cce1a9499657ad6eda180e9a270232e0e5f05f33b4e4bb81ec9dba"
  },
  "kernelspec": {
   "display_name": "Python 3.8.7 64-bit ('venv': venv)",
   "name": "python3"
  },
  "language_info": {
   "codemirror_mode": {
    "name": "ipython",
    "version": 3
   },
   "file_extension": ".py",
   "mimetype": "text/x-python",
   "name": "python",
   "nbconvert_exporter": "python",
   "pygments_lexer": "ipython3",
   "version": "3.8.7"
  },
  "orig_nbformat": 4
 },
 "nbformat": 4,
 "nbformat_minor": 2
}
