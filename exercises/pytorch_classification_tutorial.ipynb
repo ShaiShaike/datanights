{
 "cells": [
  {
   "cell_type": "markdown",
   "metadata": {},
   "source": [
    "# Pytorch tutorial for image classification\n",
    "Checkout the Pytorch tutorial in this [link](https://pytorch.org/tutorials/beginner/blitz/cifar10_tutorial.html)."
   ]
  },
  {
   "cell_type": "code",
   "execution_count": 44,
   "metadata": {},
   "outputs": [],
   "source": [
    "import torch\n",
    "import torchvision\n",
    "import torchvision.transforms as transforms"
   ]
  },
  {
   "cell_type": "markdown",
   "metadata": {},
   "source": [
    "## Loading the Data (CIFAR10)\n",
    "Downloading the data, normalize it and transform to tensors, and wrap it in DataLoaders for 'train' and 'test'."
   ]
  },
  {
   "cell_type": "code",
   "execution_count": 45,
   "metadata": {},
   "outputs": [
    {
     "name": "stdout",
     "output_type": "stream",
     "text": [
      "Files already downloaded and verified\n",
      "Files already downloaded and verified\n"
     ]
    }
   ],
   "source": [
    "from ToGrowABackbone.training_utils import WeightedDataset\n",
    "transform = transforms.Compose(\n",
    "    [transforms.ToTensor(),\n",
    "     transforms.Normalize((0.5, 0.5, 0.5), (0.5, 0.5, 0.5))])\n",
    "\n",
    "batch_size = 4\n",
    "\n",
    "trainset = torchvision.datasets.CIFAR10(root='./data', train=True,\n",
    "                                        download=True, transform=transform)\n",
    "classes_weights=[1, 1, 1, 1, 1, 1, 1, 1, 1, 1]\n",
    "trainset = WeightedDataset(trainset, classes_weights)\n",
    "\n",
    "trainloader = torch.utils.data.DataLoader(trainset, batch_size=batch_size,\n",
    "                                          shuffle=True, num_workers=2)\n",
    "\n",
    "testset = torchvision.datasets.CIFAR10(root='./data', train=False,\n",
    "                                       download=True, transform=transform)\n",
    "testloader = torch.utils.data.DataLoader(testset, batch_size=batch_size,\n",
    "                                         shuffle=False, num_workers=2)\n",
    "\n",
    "classes = ('plane', 'car', 'bird', 'cat',\n",
    "           'deer', 'dog', 'frog', 'horse', 'ship', 'truck')"
   ]
  },
  {
   "cell_type": "markdown",
   "metadata": {},
   "source": [
    "## The Model\n",
    "Define a neural network model.\n",
    "The model is defined as a class which inherits from the pytorch class `Model`.\n",
    "Notice that first, we define the layers in the `__init__` and only after we use the defined layers in the `forward`.\n",
    "This writing is similar for tensorflow as well."
   ]
  },
  {
   "cell_type": "code",
   "execution_count": 51,
   "metadata": {},
   "outputs": [],
   "source": [
    "import torch.nn as nn\n",
    "import torch.nn.functional as F\n",
    "\n",
    "\n",
    "class Net(nn.Module):\n",
    "    def __init__(self):\n",
    "        super().__init__()\n",
    "        self.conv1 = nn.Conv2d(3, 6, 5)\n",
    "        self.pool = nn.MaxPool2d(2, 2)\n",
    "        self.conv2 = nn.Conv2d(6, 16, 5)\n",
    "        self.fc1 = nn.Linear(16 * 5 * 5, 120)\n",
    "        self.fc2 = nn.Linear(120, 84)\n",
    "        self.fc3 = nn.Linear(84, 10)\n",
    "\n",
    "    def forward(self, x):\n",
    "        x = self.pool(F.relu(self.conv1(x)))\n",
    "        x = self.pool(F.relu(self.conv2(x)))\n",
    "        x = torch.flatten(x, 1) # flatten all dimensions except batch\n",
    "        x = F.relu(self.fc1(x))\n",
    "        x = F.relu(self.fc2(x))\n",
    "        x = self.fc3(x)\n",
    "        return x\n",
    "\n",
    "\n",
    "net = Net()"
   ]
  },
  {
   "cell_type": "markdown",
   "metadata": {},
   "source": [
    "We define the optimizer and the loss function, which defines how to train our model:"
   ]
  },
  {
   "cell_type": "code",
   "execution_count": 52,
   "metadata": {},
   "outputs": [],
   "source": [
    "import torch.optim as optim\n",
    "\n",
    "criterion = nn.CrossEntropyLoss()\n",
    "optimizer = optim.SGD(net.parameters(), lr=0.001, momentum=0.9)"
   ]
  },
  {
   "cell_type": "markdown",
   "metadata": {},
   "source": [
    "## Training\n",
    "The training process:"
   ]
  },
  {
   "cell_type": "code",
   "execution_count": 53,
   "metadata": {},
   "outputs": [
    {
     "name": "stdout",
     "output_type": "stream",
     "text": [
      "Epoch 0:\n",
      "probabilities: [0.1 0.1 0.1 0.1 0.1 0.1 0.1 0.1 0.1 0.1]\n",
      "Accuracy for class plane is: 29.2 %\n",
      "Accuracy for class car   is: 39.2 %\n",
      "Accuracy for class bird  is: 11.3 %\n",
      "Accuracy for class cat   is: 0.0 %\n",
      "Accuracy for class deer  is: 17.4 %\n",
      "Accuracy for class dog   is: 55.8 %\n",
      "Accuracy for class frog  is: 0.0 %\n",
      "Accuracy for class horse is: 0.0 %\n",
      "Accuracy for class ship  is: 28.8 %\n",
      "Accuracy for class truck is: 36.0 %\n",
      "Epoch 1:\n",
      "probabilities: [0.0952381  0.0952381  0.0952381  0.14285714 0.0952381  0.0952381\n",
      " 0.0952381  0.0952381  0.0952381  0.0952381 ]\n",
      "Accuracy for class plane is: 52.4 %\n",
      "Accuracy for class car   is: 42.8 %\n",
      "Accuracy for class bird  is: 0.2 %\n",
      "Accuracy for class cat   is: 73.5 %\n",
      "Accuracy for class deer  is: 0.0 %\n",
      "Accuracy for class dog   is: 0.0 %\n",
      "Accuracy for class frog  is: 17.6 %\n",
      "Accuracy for class horse is: 28.2 %\n",
      "Accuracy for class ship  is: 32.5 %\n",
      "Accuracy for class truck is: 24.0 %\n",
      "Epoch 2:\n",
      "probabilities: [0.09090909 0.09090909 0.09090909 0.18181818 0.09090909 0.09090909\n",
      " 0.09090909 0.09090909 0.09090909 0.09090909]\n",
      "Accuracy for class plane is: 46.9 %\n",
      "Accuracy for class car   is: 18.0 %\n",
      "Accuracy for class bird  is: 2.6 %\n",
      "Accuracy for class cat   is: 63.6 %\n",
      "Accuracy for class deer  is: 1.6 %\n",
      "Accuracy for class dog   is: 16.6 %\n",
      "Accuracy for class frog  is: 60.5 %\n",
      "Accuracy for class horse is: 43.1 %\n",
      "Accuracy for class ship  is: 36.6 %\n",
      "Accuracy for class truck is: 46.4 %\n",
      "Epoch 3:\n",
      "probabilities: [0.08695652 0.08695652 0.08695652 0.2173913  0.08695652 0.08695652\n",
      " 0.08695652 0.08695652 0.08695652 0.08695652]\n",
      "Accuracy for class plane is: 54.2 %\n",
      "Accuracy for class car   is: 24.9 %\n",
      "Accuracy for class bird  is: 2.8 %\n",
      "Accuracy for class cat   is: 71.1 %\n",
      "Accuracy for class deer  is: 39.1 %\n",
      "Accuracy for class dog   is: 1.6 %\n",
      "Accuracy for class frog  is: 52.3 %\n",
      "Accuracy for class horse is: 28.9 %\n",
      "Accuracy for class ship  is: 54.5 %\n",
      "Accuracy for class truck is: 24.2 %\n",
      "Epoch 4:\n",
      "probabilities: [0.08333333 0.08333333 0.08333333 0.25       0.08333333 0.08333333\n",
      " 0.08333333 0.08333333 0.08333333 0.08333333]\n",
      "Accuracy for class plane is: 45.1 %\n",
      "Accuracy for class car   is: 60.5 %\n",
      "Accuracy for class bird  is: 13.7 %\n",
      "Accuracy for class cat   is: 62.8 %\n",
      "Accuracy for class deer  is: 5.4 %\n",
      "Accuracy for class dog   is: 2.6 %\n",
      "Accuracy for class frog  is: 50.3 %\n",
      "Accuracy for class horse is: 52.9 %\n",
      "Accuracy for class ship  is: 50.8 %\n",
      "Accuracy for class truck is: 51.7 %\n",
      "Epoch 5:\n",
      "probabilities: [0.08 0.08 0.08 0.28 0.08 0.08 0.08 0.08 0.08 0.08]\n",
      "Accuracy for class plane is: 30.8 %\n",
      "Accuracy for class car   is: 44.5 %\n",
      "Accuracy for class bird  is: 3.7 %\n",
      "Accuracy for class cat   is: 89.3 %\n",
      "Accuracy for class deer  is: 19.9 %\n",
      "Accuracy for class dog   is: 0.1 %\n",
      "Accuracy for class frog  is: 10.8 %\n",
      "Accuracy for class horse is: 51.9 %\n",
      "Accuracy for class ship  is: 47.3 %\n",
      "Accuracy for class truck is: 52.0 %\n",
      "Finished Training\n"
     ]
    }
   ],
   "source": [
    "from ToGrowABackbone.training_utils import evaluate\n",
    "\n",
    "for epoch in range(6):  # loop over the dataset multiple times\n",
    "\n",
    "    running_loss = 0.0\n",
    "    for i, data in enumerate(trainloader, 0):\n",
    "        # get the inputs; data is a list of [inputs, labels]\n",
    "        inputs, labels = data\n",
    "\n",
    "        # zero the parameter gradients\n",
    "        optimizer.zero_grad()\n",
    "\n",
    "        # forward + backward + optimize\n",
    "        outputs = net(inputs)\n",
    "        loss = criterion(outputs, labels)\n",
    "        loss.backward()\n",
    "        optimizer.step()\n",
    "    \n",
    "    print(f'Epoch {epoch}:')\n",
    "    print(f'probabilities: {trainloader.dataset.probabilities}')\n",
    "    evaluate(net, testloader, classes)\n",
    "    classes_weights[3] += 0.5\n",
    "    trainset.change_weights(classes_weights)\n",
    "\n",
    "print('Finished Training')"
   ]
  },
  {
   "cell_type": "markdown",
   "metadata": {},
   "source": [
    "# Evaluation\n",
    "Evaluate our model on the test set."
   ]
  },
  {
   "cell_type": "code",
   "execution_count": null,
   "metadata": {},
   "outputs": [],
   "source": [
    "# prepare to count predictions for each class\n",
    "correct_pred = {classname: 0 for classname in classes}\n",
    "total_pred = {classname: 0 for classname in classes}\n",
    "\n",
    "# again no gradients needed\n",
    "with torch.no_grad():\n",
    "    for data in testloader:\n",
    "        images, labels = data\n",
    "        outputs = net(images)\n",
    "        _, predictions = torch.max(outputs, 1)\n",
    "        # collect the correct predictions for each class\n",
    "        for label, prediction in zip(labels, predictions):\n",
    "            if label == prediction:\n",
    "                correct_pred[classes[label]] += 1\n",
    "            total_pred[classes[label]] += 1\n",
    "\n",
    "\n",
    "# print accuracy for each class\n",
    "for classname, correct_count in correct_pred.items():\n",
    "    accuracy = 100 * float(correct_count) / total_pred[classname]\n",
    "    print(\"Accuracy for class {:5s} is: {:.1f} %\".format(classname,\n",
    "                                                   accuracy))"
   ]
  }
 ],
 "metadata": {
  "interpreter": {
   "hash": "0e80eec0e6cce1a9499657ad6eda180e9a270232e0e5f05f33b4e4bb81ec9dba"
  },
  "kernelspec": {
   "display_name": "Python 3.8.7 64-bit ('venv': venv)",
   "name": "python3"
  },
  "language_info": {
   "codemirror_mode": {
    "name": "ipython",
    "version": 3
   },
   "file_extension": ".py",
   "mimetype": "text/x-python",
   "name": "python",
   "nbconvert_exporter": "python",
   "pygments_lexer": "ipython3",
   "version": "3.8.7"
  },
  "orig_nbformat": 4
 },
 "nbformat": 4,
 "nbformat_minor": 2
}
