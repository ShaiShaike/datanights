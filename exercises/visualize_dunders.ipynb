{
 "cells": [
  {
   "cell_type": "code",
   "execution_count": 1,
   "source": [
    "from ToGrowABackbone.dunders import Students\r\n",
    "students_1 = Students(names=['moshe', 'david'], grades=[100, 80])\r\n",
    "students_1"
   ],
   "outputs": [
    {
     "output_type": "execute_result",
     "data": {
      "text/plain": [
       "names: ['moshe', 'david'], grades: [100, 80]"
      ]
     },
     "metadata": {},
     "execution_count": 1
    }
   ],
   "metadata": {}
  },
  {
   "cell_type": "code",
   "execution_count": 2,
   "source": [
    "len(students_1)"
   ],
   "outputs": [
    {
     "output_type": "execute_result",
     "data": {
      "text/plain": [
       "2"
      ]
     },
     "metadata": {},
     "execution_count": 2
    }
   ],
   "metadata": {}
  },
  {
   "cell_type": "code",
   "execution_count": 3,
   "source": [
    "students_2 = Students(['samson'], [60])\r\n",
    "all_students = students_1 + students_2\r\n",
    "print(all_students)\r\n",
    "print(len(all_students))"
   ],
   "outputs": [
    {
     "output_type": "stream",
     "name": "stdout",
     "text": [
      "names: ['moshe', 'david', 'samsson'], grades: [100, 80, 60]\n",
      "3\n"
     ]
    }
   ],
   "metadata": {}
  }
 ],
 "metadata": {
  "orig_nbformat": 4,
  "language_info": {
   "name": "python",
   "version": "3.8.7",
   "mimetype": "text/x-python",
   "codemirror_mode": {
    "name": "ipython",
    "version": 3
   },
   "pygments_lexer": "ipython3",
   "nbconvert_exporter": "python",
   "file_extension": ".py"
  },
  "kernelspec": {
   "name": "python3",
   "display_name": "Python 3.8.7 64-bit ('venv': venv)"
  },
  "interpreter": {
   "hash": "0e80eec0e6cce1a9499657ad6eda180e9a270232e0e5f05f33b4e4bb81ec9dba"
  }
 },
 "nbformat": 4,
 "nbformat_minor": 2
}